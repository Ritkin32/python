{
 "cells": [
  {
   "cell_type": "markdown",
   "id": "fcf2866b",
   "metadata": {},
   "source": [
    "## Задача 1"
   ]
  },
  {
   "cell_type": "markdown",
   "id": "cb102cc8",
   "metadata": {},
   "source": [
    "На складе лежат разные фрукты в разном количестве.\n",
    "Нужно написать функцию, которая на вход принимает любое количество названий фруктов и их количество, а возвращает общее количество фруктов на складе"
   ]
  },
  {
   "cell_type": "code",
   "execution_count": 1,
   "id": "d3e576e6",
   "metadata": {
    "scrolled": true
   },
   "outputs": [],
   "source": [
    "def fruits(**kwargs):\n",
    "    \n",
    "    count_fruits = sum(kwargs.values())\n",
    "    \n",
    "    return f'Количество фруктов на складе = {count_fruits}'"
   ]
  },
  {
   "cell_type": "code",
   "execution_count": 2,
   "id": "c60655c2",
   "metadata": {},
   "outputs": [
    {
     "name": "stdout",
     "output_type": "stream",
     "text": [
      "Количество фруктов на складе = 47\n"
     ]
    }
   ],
   "source": [
    "print(fruits(orange = 15, pears=3, bananas=7, apple = 22))"
   ]
  },
  {
   "cell_type": "markdown",
   "id": "f03bf46c",
   "metadata": {},
   "source": [
    "### Задача 2"
   ]
  },
  {
   "cell_type": "markdown",
   "id": "e0d0dfaa",
   "metadata": {},
   "source": [
    "На складе лежат разные фрукты в разном количестве.\n",
    "Нужно написать функцию, которая на вход принимает любое количество названий фруктов и их количество, а возвращает общее количество фруктов на складе"
   ]
  },
  {
   "cell_type": "code",
   "execution_count": 3,
   "id": "62ce06ce",
   "metadata": {},
   "outputs": [],
   "source": [
    "def fruits(**kwargs):\n",
    "    \n",
    "    count_fruits = sum(kwargs.values())\n",
    "    \n",
    "    return f'Количество фруктов на складе = {count_fruits}'"
   ]
  },
  {
   "cell_type": "code",
   "execution_count": 4,
   "id": "6a734a2f",
   "metadata": {},
   "outputs": [
    {
     "name": "stdout",
     "output_type": "stream",
     "text": [
      "Количество фруктов на складе = 17\n"
     ]
    }
   ],
   "source": [
    "print(fruits(apples = 5, pears = 3, bananas = 7, orange = 2))"
   ]
  },
  {
   "cell_type": "markdown",
   "id": "2012d7cb",
   "metadata": {},
   "source": [
    "## Задача 3"
   ]
  },
  {
   "cell_type": "markdown",
   "id": "ae2d1a1e",
   "metadata": {},
   "source": [
    "Дан список с затратами на рекламу. Но в данных есть ошибки, некоторые затраты имеют отрицательную величину. Удалите такие значения из списка и посчитайте суммарные затраты\n",
    "[100, 125, -90, 345, 655, -1, 0, 200]\n",
    "Используйте list comprehensions"
   ]
  },
  {
   "cell_type": "code",
   "execution_count": 5,
   "id": "facf2f6b",
   "metadata": {},
   "outputs": [
    {
     "name": "stdout",
     "output_type": "stream",
     "text": [
      "[100, 125, 345, 655, 0, 200]\n"
     ]
    }
   ],
   "source": [
    "list_1 = [100, 125, -90, 345, 655, -1, 0, 200]\n",
    "print([i for i in list_1 if i >= 0 ])"
   ]
  },
  {
   "cell_type": "code",
   "execution_count": 6,
   "id": "76289ddc",
   "metadata": {},
   "outputs": [
    {
     "name": "stdout",
     "output_type": "stream",
     "text": [
      "Сумарные затраты = 1425\n"
     ]
    }
   ],
   "source": [
    "print(f'Сумарные затраты = {sum([i for i in list_1 if i > 0 ])}')"
   ]
  },
  {
   "cell_type": "markdown",
   "id": "06fd0f42",
   "metadata": {},
   "source": [
    "## Задача 4"
   ]
  },
  {
   "cell_type": "markdown",
   "id": "5b21117a",
   "metadata": {},
   "source": [
    "Даны два списка.\n",
    "Дата покупки\n",
    "['2021-09-14', '2021-12-15', '2021-09-08', '2021-12-05', '2021-10-09', '2021-09-30', '2021-12-22', '2021-11-29', '2021-12-24', '2021-11-26', '2021-10-27', '2021-12-18', '2021-11-09', '2021-11-23', '2021-09-27', '2021-10-02', '2021-12-27', '2021-09-20', '2021-12-13', '2021-11-01', '2021-11-09', '2021-12-06', '2021-12-08', '2021-10-09', '2021-10-31', '2021-09-30', '2021-11-09', '2021-12-13', '2021-10-26', '2021-12-09']\n",
    "Суммы покупок по датам\n",
    "[1270, 8413, 9028, 3703, 5739, 4095, 295, 4944, 5723, 3701, 4471, 651, 7037, 4274, 6275, 4988, 6930, 2971, 6592, 2004, 2822, 519, 3406, 2732, 5015, 2008, 316, 6333, 5700, 2887]"
   ]
  },
  {
   "cell_type": "markdown",
   "id": "72740c25",
   "metadata": {},
   "source": [
    "### 4.1"
   ]
  },
  {
   "cell_type": "markdown",
   "id": "86538340",
   "metadata": {},
   "source": [
    "Найдите, какая выручка у компании в ноябре\n",
    "Используйте list comprehensions"
   ]
  },
  {
   "cell_type": "code",
   "execution_count": 7,
   "id": "c1c9e082",
   "metadata": {},
   "outputs": [],
   "source": [
    "date_buy = ['2021-09-14', '2021-12-15', '2021-09-08', '2021-12-05', '2021-10-09', \n",
    "        '2021-09-30', '2021-12-22', '2021-11-29', '2021-12-24', '2021-11-26', \n",
    "        '2021-10-27', '2021-12-18', '2021-11-09', '2021-11-23', '2021-09-27', \n",
    "        '2021-10-02', '2021-12-27', '2021-09-20', '2021-12-13', '2021-11-01', \n",
    "        '2021-11-09', '2021-12-06', '2021-12-08', '2021-10-09', '2021-10-31', \n",
    "        '2021-09-30', '2021-11-09', '2021-12-13', '2021-10-26', '2021-12-09']\n",
    "sum_data = [1270, 8413, 9028, 3703, 5739, 4095, 295, 4944, 5723, 3701, \n",
    "        4471, 651, 7037, 4274, 6275, 4988, 6930, 2971, 6592, 2004, \n",
    "        2822, 519, 3406, 2732, 5015, 2008, 316, 6333, 5700, 2887]"
   ]
  },
  {
   "cell_type": "code",
   "execution_count": 8,
   "id": "0fe67a89",
   "metadata": {},
   "outputs": [
    {
     "name": "stdout",
     "output_type": "stream",
     "text": [
      "Выручка за ноябрь = 25098\n"
     ]
    }
   ],
   "source": [
    "print(f'Выручка за ноябрь = {sum([sum_data[i] for i in range(len(date_buy)-1) if \"-11\" in date_buy[i]])}')"
   ]
  },
  {
   "cell_type": "markdown",
   "id": "20dafae7",
   "metadata": {},
   "source": [
    "## 4.2  "
   ]
  },
  {
   "cell_type": "markdown",
   "id": "9db36e40",
   "metadata": {},
   "source": [
    "Для этого напишите функцию, которая на вход принимает список с датами и список с выручкой, а на выходе словарь, где ключи - это месяцы, а значения - это выручка.\n",
    "Используйте аннотирование типов."
   ]
  },
  {
   "cell_type": "code",
   "execution_count": 9,
   "id": "65d26946",
   "metadata": {},
   "outputs": [
    {
     "name": "stdout",
     "output_type": "stream",
     "text": [
      "{'09': 25647, '12': 45452, '10': 28645, '11': 25098}\n"
     ]
    }
   ],
   "source": [
    "def monthly_income(data: list, revenue: list) -> dict:\n",
    "    profit = {}\n",
    "    for i in range(len(data)):\n",
    "        if data[i].split('-')[1] in profit.keys():\n",
    "            profit[data[i].split('-')[1]] += revenue[i]\n",
    "        else:\n",
    "            profit[data[i].split('-')[1]] = revenue[i]\n",
    "    return profit\n",
    "print(monthly_income(date_buy, sum_data))"
   ]
  }
 ],
 "metadata": {
  "kernelspec": {
   "display_name": "Python 3 (ipykernel)",
   "language": "python",
   "name": "python3"
  },
  "language_info": {
   "codemirror_mode": {
    "name": "ipython",
    "version": 3
   },
   "file_extension": ".py",
   "mimetype": "text/x-python",
   "name": "python",
   "nbconvert_exporter": "python",
   "pygments_lexer": "ipython3",
   "version": "3.10.9"
  }
 },
 "nbformat": 4,
 "nbformat_minor": 5
}
